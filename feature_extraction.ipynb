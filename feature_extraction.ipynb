{
  "nbformat": 4,
  "nbformat_minor": 0,
  "metadata": {
    "colab": {
      "name": "feature_extraction.ipynb",
      "provenance": [],
      "collapsed_sections": [],
      "machine_shape": "hm",
      "authorship_tag": "ABX9TyM0xFWmUCzcB19l10ZkbmOn",
      "include_colab_link": true
    },
    "kernelspec": {
      "name": "python3",
      "display_name": "Python 3"
    }
  },
  "cells": [
    {
      "cell_type": "markdown",
      "metadata": {
        "id": "view-in-github",
        "colab_type": "text"
      },
      "source": [
        "<a href=\"https://colab.research.google.com/github/Anandsure/Xcelerrator/blob/master/feature_extraction.ipynb\" target=\"_parent\"><img src=\"https://colab.research.google.com/assets/colab-badge.svg\" alt=\"Open In Colab\"/></a>"
      ]
    },
    {
      "cell_type": "code",
      "metadata": {
        "id": "Wg1L0Ph6c5oi",
        "colab_type": "code",
        "colab": {}
      },
      "source": [
        "%tensorflow_version 2.x"
      ],
      "execution_count": 0,
      "outputs": []
    },
    {
      "cell_type": "code",
      "metadata": {
        "id": "OupjU-DkpRO3",
        "colab_type": "code",
        "colab": {
          "base_uri": "https://localhost:8080/",
          "height": 122
        },
        "outputId": "172d2b34-4053-44dd-b0db-e8b9f0b86c33"
      },
      "source": [
        "!pip install sklearn"
      ],
      "execution_count": 2,
      "outputs": [
        {
          "output_type": "stream",
          "text": [
            "Requirement already satisfied: sklearn in /usr/local/lib/python3.6/dist-packages (0.0)\n",
            "Requirement already satisfied: scikit-learn in /usr/local/lib/python3.6/dist-packages (from sklearn) (0.22.2.post1)\n",
            "Requirement already satisfied: numpy>=1.11.0 in /usr/local/lib/python3.6/dist-packages (from scikit-learn->sklearn) (1.18.3)\n",
            "Requirement already satisfied: joblib>=0.11 in /usr/local/lib/python3.6/dist-packages (from scikit-learn->sklearn) (0.14.1)\n",
            "Requirement already satisfied: scipy>=0.17.0 in /usr/local/lib/python3.6/dist-packages (from scikit-learn->sklearn) (1.4.1)\n"
          ],
          "name": "stdout"
        }
      ]
    },
    {
      "cell_type": "code",
      "metadata": {
        "id": "4-gpLt_9Pzap",
        "colab_type": "code",
        "colab": {}
      },
      "source": [
        "from nltk.corpus import treebank\n",
        "import tensorflow.compat.v2.feature_column as fc\n",
        "import tensorflow as tf"
      ],
      "execution_count": 0,
      "outputs": []
    },
    {
      "cell_type": "code",
      "metadata": {
        "id": "Sl9vqLMHQel2",
        "colab_type": "code",
        "colab": {}
      },
      "source": [
        "import pandas as pd"
      ],
      "execution_count": 0,
      "outputs": []
    },
    {
      "cell_type": "code",
      "metadata": {
        "id": "5huc4CTIQUiU",
        "colab_type": "code",
        "colab": {}
      },
      "source": [
        "import random as r\n",
        "import itertools "
      ],
      "execution_count": 0,
      "outputs": []
    },
    {
      "cell_type": "code",
      "metadata": {
        "id": "supvAmgSQOkV",
        "colab_type": "code",
        "outputId": "447d1029-101f-40b9-d526-bdf518da1dd1",
        "colab": {
          "base_uri": "https://localhost:8080/",
          "height": 102
        }
      },
      "source": [
        "import nltk\n",
        "nltk.download('treebank')\n",
        "nltk.download('universal_tagset')"
      ],
      "execution_count": 6,
      "outputs": [
        {
          "output_type": "stream",
          "text": [
            "[nltk_data] Downloading package treebank to /root/nltk_data...\n",
            "[nltk_data]   Package treebank is already up-to-date!\n",
            "[nltk_data] Downloading package universal_tagset to /root/nltk_data...\n",
            "[nltk_data]   Package universal_tagset is already up-to-date!\n"
          ],
          "name": "stdout"
        },
        {
          "output_type": "execute_result",
          "data": {
            "text/plain": [
              "True"
            ]
          },
          "metadata": {
            "tags": []
          },
          "execution_count": 6
        }
      ]
    },
    {
      "cell_type": "code",
      "metadata": {
        "id": "CpbyFKHxP8vR",
        "colab_type": "code",
        "colab": {}
      },
      "source": [
        "sen = treebank.tagged_sents(tagset='universal')"
      ],
      "execution_count": 0,
      "outputs": []
    },
    {
      "cell_type": "code",
      "metadata": {
        "id": "2gWh0wx9tk1g",
        "colab_type": "code",
        "colab": {
          "base_uri": "https://localhost:8080/",
          "height": 54
        },
        "outputId": "df2a456a-a753-46f9-9aac-73d39787d828"
      },
      "source": [
        "import random\n",
        "print(random.choice(sen)) #sample display"
      ],
      "execution_count": 8,
      "outputs": [
        {
          "output_type": "stream",
          "text": [
            "[('``', '.'), ('When', 'ADV'), ('I', 'PRON'), ('see', 'VERB'), ('prints', 'NOUN'), ('going', 'VERB'), ('into', 'ADP'), ('the', 'DET'), ('hands', 'NOUN'), ('of', 'ADP'), ('institutions', 'NOUN'), ('*T*-1', 'X'), (',', '.'), ('I', 'PRON'), ('know', 'VERB'), ('0', 'X'), ('they', 'PRON'), ('are', 'VERB'), (\"n't\", 'ADV'), ('going', 'VERB'), ('*-2', 'X'), ('to', 'PRT'), ('come', 'VERB'), ('back', 'ADV'), ('on', 'ADP'), ('the', 'DET'), ('market', 'NOUN'), ('.', '.'), (\"''\", '.')]\n"
          ],
          "name": "stdout"
        }
      ]
    },
    {
      "cell_type": "code",
      "metadata": {
        "id": "bidmoEXKt7bL",
        "colab_type": "code",
        "colab": {
          "base_uri": "https://localhost:8080/",
          "height": 51
        },
        "outputId": "52b06955-be60-434b-b86d-085f13fabcc6"
      },
      "source": [
        "train=[]\n",
        "test=[]\n",
        "for _ in range(20):\n",
        "  train.append(random.choice(sen))\n",
        "  test.append(random.choice(sen))\n",
        "train = sum(train,[])\n",
        "test = sum(test,[])\n",
        "print(len(train))\n",
        "print(len(test))\n",
        "#converting to dataframe\n",
        "dftrain = pd.DataFrame(train,columns=['word','tag'])\n",
        "dftest = pd.DataFrame(test,columns=['word','tag'])"
      ],
      "execution_count": 20,
      "outputs": [
        {
          "output_type": "stream",
          "text": [
            "484\n",
            "600\n"
          ],
          "name": "stdout"
        }
      ]
    },
    {
      "cell_type": "code",
      "metadata": {
        "id": "arGQXJakvixp",
        "colab_type": "code",
        "colab": {}
      },
      "source": [
        "y_train = dftrain.pop('tag')\n",
        "y_test = dftest.pop('tag')"
      ],
      "execution_count": 0,
      "outputs": []
    },
    {
      "cell_type": "code",
      "metadata": {
        "id": "W5Qlj483v0y0",
        "colab_type": "code",
        "colab": {}
      },
      "source": [
        ""
      ],
      "execution_count": 0,
      "outputs": []
    }
  ]
}